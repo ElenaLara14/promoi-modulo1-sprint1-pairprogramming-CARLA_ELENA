{
 "cells": [
  {
   "cell_type": "markdown",
   "metadata": {},
   "source": [
    "\n",
    "# Ejercicio 1 - Variables numéricas de tipo integer\n",
    "\n",
    "1. Cread tres variables numéricas de tipo integer (entero), llamadas de la siguiente forma:\n",
    "    - numero1\n",
    "    - numero2\n",
    "    - numero3\n",
    "\n",
    "2. Utilizando los operadores lógicos:\n",
    "    - En vuestro caso, es el numero1 mayor que el numero2\n",
    "    - Es el numero1 menor que el numero2 pero mayor que el numero3\n",
    "    - Es el numero3 igual que el numero2\n",
    "    - Es el numero2 distinto que el numero1"
   ]
  },
  {
   "cell_type": "code",
   "execution_count": 1,
   "metadata": {},
   "outputs": [
    {
     "name": "stdout",
     "output_type": "stream",
     "text": [
      "False\n",
      "False\n",
      "False\n",
      "True\n"
     ]
    }
   ],
   "source": [
    "# Definición tres variables enteros\n",
    "numero1 = 1\n",
    "numero2 = 2\n",
    "numero3 = 3\n",
    "\n",
    "# Comparaciones usando operadores lógicos\n",
    "print(numero1 > numero2)\n",
    "print(numero1 < numero2 and numero1 > numero3)\n",
    "print(numero3 == numero2)\n",
    "print(numero2 != numero1)\n"
   ]
  },
  {
   "cell_type": "markdown",
   "metadata": {},
   "source": [
    "# Ejercicio 2 - Variables numéricas de tipo float\n",
    "\n",
    "Cread dos variables numéricas de tipo float (decimal) con dos decimales, llamdas de la siguiente forma:\n",
    "- altura1\n",
    "- altura2\n",
    "\n",
    "Utilizando los operadores matemáticos aprendidos en la lección:\n",
    "- Cuál es la suma de las dos alturas\n",
    "- Cuál es la diferencia entre las alturas\n",
    "- Cuál es el resto de la división de las dos alturas\n",
    "- Cuál es resultado de la división de las dos alturas, redondead el resultado a un decimal.\n"
   ]
  },
  {
   "cell_type": "code",
   "execution_count": 2,
   "metadata": {},
   "outputs": [
    {
     "name": "stdout",
     "output_type": "stream",
     "text": [
      "3.36 metros\n",
      "0.06 metros\n",
      "0.06 metros\n",
      "1.0\n"
     ]
    }
   ],
   "source": [
    "# Definición dos variables de tipo float\n",
    "altura1 = 1.71\n",
    "altura2 = 1.65\n",
    "\n",
    "# Operaciones con operadores matemáticos / esta ez proobamos declarar nuevas variables y luego imprimirlas \n",
    "suma_de_alturas = altura1 + altura2\n",
    "print(suma_de_alturas, \"metros\")\n",
    "\n",
    "resta_de_alturas = round(altura1 - altura2,2)\n",
    "print(resta_de_alturas, \"metros\",)\n",
    "\n",
    "resto_alturas = round(altura1 % altura2,2)\n",
    "print(resto_alturas, \"metros\")\n",
    "\n",
    "division_alturas = round(altura1 / altura2,1)\n",
    "print(division_alturas)"
   ]
  },
  {
   "cell_type": "markdown",
   "metadata": {},
   "source": [
    "\n",
    "# Ejercicio 3 - Programa nombre y apellidos con input()\n",
    "\n",
    "Escribid un programa usando la función input() que le pregunte al usuario su nombre y apellidos. Una vez que tengamos el nombre del usuario:\n",
    "- Printead su nombre y apellidos todo en mayúsculas\n",
    "- Printead su nombre y apellidos todo en minúsculas\n",
    "- Printead su nombre y apellidos con la primera letra del nombre y los apellidos en mayúscula y el resto en minúscula.\n",
    "- Printeas solo la primera letra del nombre en mayúscula."
   ]
  },
  {
   "cell_type": "code",
   "execution_count": 3,
   "metadata": {},
   "outputs": [
    {
     "name": "stdout",
     "output_type": "stream",
     "text": [
      "CARLA BISCOTTI\n",
      "carla biscotti\n",
      "Carla Biscotti\n",
      "Carla biscotti\n"
     ]
    }
   ],
   "source": [
    "# Programa nombre y apellidos\n",
    "nombre = input(\"¿Cuál es tu nombre?\")\n",
    "apellidos =input(\"¿Cuales son tus apellidos?\")\n",
    "print(nombre.upper() + \" \" + apellidos.upper())\n",
    "print(nombre.lower() + \" \" + apellidos.lower())\n",
    "print(nombre.title() + \" \" + apellidos.title())\n",
    "print(nombre.capitalize() + \" \" + apellidos.lower())"
   ]
  },
  {
   "cell_type": "markdown",
   "metadata": {},
   "source": [
    "\n",
    "# Ejercicio 4 - Programa frase con input ()\n",
    "\n",
    "Escribid un programa usando la función input() que:\n",
    "\n",
    "- Le pregunte al usuario por una frase, almacenad este resultado en una variable.\n",
    "- Le pregunte al usuario por una vocal, almacenad este resultado en una variable.\n",
    "- Printead la misma frase pero con la vocal introducida en mayúsulas.\n",
    "\n"
   ]
  },
  {
   "cell_type": "code",
   "execution_count": 33,
   "metadata": {},
   "outputs": [
    {
     "data": {
      "text/plain": [
       "'LA vidA es bellA'"
      ]
     },
     "execution_count": 33,
     "metadata": {},
     "output_type": "execute_result"
    }
   ],
   "source": [
    "# Programa frase\n",
    "frase = input(\"Dinos una frase:\")\n",
    "vocal = input(\"Dinos una vocal:\")\n",
    "\n",
    "# Imprimir misma frase con vocal en MAYUSCULA\n",
    "frase.replace(vocal, vocal.upper())"
   ]
  },
  {
   "cell_type": "markdown",
   "metadata": {},
   "source": [
    "# Ejercicio 5 - Programa lista de la compra con input()\n",
    "\n",
    "Escribid un programa usando la función input() que:\n",
    "\n",
    "- Le pregunte al usuario por la lista de la compra, separando cada elemento por comas.\n",
    "- Devolved la lista de compra donde veamos cada elemento en una línea.\n",
    "\n",
    "💡Pista\n",
    "\n",
    "Para indicar salto de línea usaremos \"\\n\".\n",
    "\n",
    "Deberéis usar el método join de los strings"
   ]
  },
  {
   "cell_type": "code",
   "execution_count": 18,
   "metadata": {},
   "outputs": [
    {
     "name": "stdout",
     "output_type": "stream",
     "text": [
      "manzana\n",
      " naranja\n",
      " harina\n",
      " papel higienico\n"
     ]
    }
   ],
   "source": [
    "compra = input (\"Escriba la lista de la compra, separando cada elemento por comas\")\n",
    "\n",
    "lista_compra = compra.split (\",\")\n",
    "\n",
    "print (*lista_compra, sep=\"\\n\")\n",
    "\n",
    "\n"
   ]
  }
 ],
 "metadata": {
  "kernelspec": {
   "display_name": "base",
   "language": "python",
   "name": "python3"
  },
  "language_info": {
   "codemirror_mode": {
    "name": "ipython",
    "version": 3
   },
   "file_extension": ".py",
   "mimetype": "text/x-python",
   "name": "python",
   "nbconvert_exporter": "python",
   "pygments_lexer": "ipython3",
   "version": "3.9.12"
  }
 },
 "nbformat": 4,
 "nbformat_minor": 2
}
