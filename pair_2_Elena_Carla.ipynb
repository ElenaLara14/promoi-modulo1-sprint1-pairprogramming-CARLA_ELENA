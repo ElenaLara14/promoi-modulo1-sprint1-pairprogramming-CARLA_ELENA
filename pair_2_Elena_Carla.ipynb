{
 "cells": [
  {
   "cell_type": "markdown",
   "metadata": {},
   "source": [
    "# ejercicio 1: duplicar elementos de una lista"
   ]
  },
  {
   "cell_type": "code",
   "execution_count": 2,
   "metadata": {},
   "outputs": [
    {
     "name": "stdout",
     "output_type": "stream",
     "text": [
      "[2, 4, 6, 8, 2, 4, 6, 8]\n"
     ]
    }
   ],
   "source": [
    "lista = [2,4, 6, 8]\n",
    "\n",
    "lista_duplicada = lista * 2\n",
    "\n",
    "print (lista_duplicada)\n",
    "\n"
   ]
  },
  {
   "cell_type": "markdown",
   "metadata": {},
   "source": [
    "# ejercicio 2: combinar dos listas"
   ]
  },
  {
   "cell_type": "code",
   "execution_count": 3,
   "metadata": {},
   "outputs": [
    {
     "name": "stdout",
     "output_type": "stream",
     "text": [
      "[1, 2, 3, 4, 5, 6]\n"
     ]
    }
   ],
   "source": [
    "lista1 = [1, 2, 3]\n",
    "lista2 = [4, 5, 6]\n",
    "\n",
    "lista_combinada = lista1 + lista2\n",
    "\n",
    "print (lista_combinada)"
   ]
  },
  {
   "cell_type": "markdown",
   "metadata": {},
   "source": [
    "# ejercicio 3: calcular la suma de una lista de números"
   ]
  },
  {
   "cell_type": "code",
   "execution_count": 7,
   "metadata": {},
   "outputs": [
    {
     "name": "stdout",
     "output_type": "stream",
     "text": [
      "21 21\n"
     ]
    },
    {
     "data": {
      "text/plain": [
       "True"
      ]
     },
     "execution_count": 7,
     "metadata": {},
     "output_type": "execute_result"
    }
   ],
   "source": [
    "#forma lenta\n",
    "\n",
    "suma1 = lista_combinada [0] + lista_combinada [1] + lista_combinada [2] + lista_combinada [3] + lista_combinada [4] + lista_combinada [5]\n",
    "\n",
    "\n",
    "#forma rápida\n",
    "suma2 = sum (lista_combinada) \n",
    "\n",
    "print (suma2, suma1)\n",
    "\n",
    "suma2 == suma1"
   ]
  },
  {
   "cell_type": "markdown",
   "metadata": {},
   "source": [
    "# ejercicio 4 al 14"
   ]
  },
  {
   "cell_type": "code",
   "execution_count": 34,
   "metadata": {},
   "outputs": [
    {
     "name": "stdout",
     "output_type": "stream",
     "text": [
      "6\n",
      "8\n",
      "['banana', 'mango', 'pera', 'banana', 'fresa', 'limón', 'sandía']\n",
      "[7, 6, 5, 4, 3, 2, 1]\n",
      "[1, 2, 3, 4, 5, 6, 7]\n"
     ]
    }
   ],
   "source": [
    "# 4. calcular el máximo\n",
    "max1 = max(lista_combinada)\n",
    "print (max1)\n",
    "\n",
    "\n",
    "# 5. calcular la longitud\n",
    "print (len(lista_duplicada))\n",
    "\n",
    "\n",
    "# 6. encontrar el índice de un elemento\n",
    "lista3 = [\"banana\", \"manzana\", \"pera\", \"banana\", \"fresa\", \"limón\", \"sandía\"]\n",
    "posicion_banana = lista3.index (\"banana\")\n",
    "\n",
    "\n",
    "# 7. contar ocurrencias de un elemento en una lista\n",
    "lista3.count (\"banana\")\n",
    "\n",
    "# 8. obtener una sublista de una lista\n",
    "lista3 [2:5:]\n",
    "\n",
    "# 9. obtener el último elemento de una lista\n",
    "lista3[-1]\n",
    "\n",
    "# 10. repite al anterior\n",
    "\n",
    "# 11. obtener una sublista de una lista\n",
    "lista3 [1:3:]\n",
    "\n",
    "# 12. reemplazar un elemento de una lista\n",
    "lista3 [lista3.index(\"manzana\")] = \"mango\"\n",
    "\n",
    "print(lista3)\n",
    "# 13. obtener una lista inversa\n",
    "listaA = [1, 2, 3, 4, 5, 6, 7]\n",
    "\n",
    "listaA.reverse()\n",
    "\n",
    "print (listaA)\n",
    "\n",
    "# 14. orden ascendente\n",
    "listaA.sort()\n",
    "print(listaA)\n",
    "\n",
    "\n",
    "\n",
    "\n",
    "\n",
    "\n"
   ]
  },
  {
   "cell_type": "markdown",
   "metadata": {},
   "source": [
    "# **EJERCICIOS TUPLAS**"
   ]
  },
  {
   "cell_type": "markdown",
   "metadata": {},
   "source": [
    "# ejercicio 1: acceder a primer elemento de una tupla"
   ]
  },
  {
   "cell_type": "code",
   "execution_count": null,
   "metadata": {},
   "outputs": [],
   "source": []
  },
  {
   "cell_type": "markdown",
   "metadata": {},
   "source": [
    "# ejercicio 2: acceder a último elemento de una tupla"
   ]
  },
  {
   "cell_type": "code",
   "execution_count": null,
   "metadata": {},
   "outputs": [],
   "source": []
  },
  {
   "cell_type": "markdown",
   "metadata": {},
   "source": [
    "# ejercicio 3: obtener longitud de una tupla"
   ]
  },
  {
   "cell_type": "markdown",
   "metadata": {},
   "source": []
  },
  {
   "cell_type": "markdown",
   "metadata": {},
   "source": [
    "# ejercicio 4: concatenar dos tuplas"
   ]
  },
  {
   "cell_type": "code",
   "execution_count": null,
   "metadata": {},
   "outputs": [],
   "source": []
  },
  {
   "cell_type": "markdown",
   "metadata": {},
   "source": [
    "# ejercicio 5: encontrar el índice de un elemento en una tupla"
   ]
  },
  {
   "cell_type": "code",
   "execution_count": null,
   "metadata": {},
   "outputs": [],
   "source": []
  },
  {
   "cell_type": "markdown",
   "metadata": {},
   "source": [
    "# ejercicio 6: contar ocurrencias de un elemento en una tupla"
   ]
  },
  {
   "cell_type": "code",
   "execution_count": null,
   "metadata": {},
   "outputs": [],
   "source": []
  },
  {
   "cell_type": "markdown",
   "metadata": {},
   "source": [
    "# ejercicio 7: obtener una subtuple de una tupla"
   ]
  },
  {
   "cell_type": "code",
   "execution_count": null,
   "metadata": {},
   "outputs": [],
   "source": []
  },
  {
   "cell_type": "markdown",
   "metadata": {},
   "source": [
    "# ejercicio 8: Invertir una tupla"
   ]
  }
 ],
 "metadata": {
  "kernelspec": {
   "display_name": "base",
   "language": "python",
   "name": "python3"
  },
  "language_info": {
   "codemirror_mode": {
    "name": "ipython",
    "version": 3
   },
   "file_extension": ".py",
   "mimetype": "text/x-python",
   "name": "python",
   "nbconvert_exporter": "python",
   "pygments_lexer": "ipython3",
   "version": "3.9.12"
  }
 },
 "nbformat": 4,
 "nbformat_minor": 2
}
