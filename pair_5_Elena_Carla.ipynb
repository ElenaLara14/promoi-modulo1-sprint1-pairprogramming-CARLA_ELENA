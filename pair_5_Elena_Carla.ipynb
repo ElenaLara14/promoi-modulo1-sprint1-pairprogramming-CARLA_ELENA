{
 "cells": [
  {
   "cell_type": "markdown",
   "metadata": {},
   "source": [
    "# Ejercicios bucles for"
   ]
  },
  {
   "cell_type": "code",
   "execution_count": 1,
   "metadata": {},
   "outputs": [
    {
     "name": "stdout",
     "output_type": "stream",
     "text": [
      "1\n",
      "2\n",
      "3\n",
      "4\n",
      "5\n"
     ]
    }
   ],
   "source": [
    "# Ejercicio 1\n",
    "for i in range(1,6):\n",
    "    print(i)"
   ]
  },
  {
   "cell_type": "code",
   "execution_count": 3,
   "metadata": {},
   "outputs": [
    {
     "name": "stdout",
     "output_type": "stream",
     "text": [
      "1\n",
      "3\n",
      "6\n",
      "10\n",
      "15\n",
      "21\n",
      "28\n",
      "36\n",
      "45\n",
      "55\n"
     ]
    }
   ],
   "source": [
    "# Ejercicio 2\n",
    "suma = 0\n",
    "\n",
    "for i in range(1,11):\n",
    "    suma += i\n",
    "    print(suma)"
   ]
  },
  {
   "cell_type": "code",
   "execution_count": 6,
   "metadata": {},
   "outputs": [
    {
     "name": "stdout",
     "output_type": "stream",
     "text": [
      "1 * 7\n",
      "7\n",
      "7 * 3\n",
      "21\n",
      "21 * 8\n",
      "168\n",
      "168 * 1\n",
      "168\n"
     ]
    }
   ],
   "source": [
    "# Ejercicio 3\n",
    "lista = [7,3,8,1]\n",
    "producto = 1\n",
    "\n",
    "for num in lista:\n",
    "    print(producto,\"*\", num)\n",
    "    producto *= num\n",
    "    print(producto)\n",
    "    "
   ]
  },
  {
   "cell_type": "code",
   "execution_count": 7,
   "metadata": {},
   "outputs": [
    {
     "name": "stdout",
     "output_type": "stream",
     "text": [
      "A\n",
      "l\n",
      "i\n",
      "c\n",
      "a\n",
      "n\n",
      "t\n",
      "e\n"
     ]
    }
   ],
   "source": [
    "# Ejercicio 4\n",
    "cadena = \"Alicante\"\n",
    "\n",
    "for letra in cadena:\n",
    "    print(letra)"
   ]
  },
  {
   "cell_type": "code",
   "execution_count": 11,
   "metadata": {},
   "outputs": [
    {
     "name": "stdout",
     "output_type": "stream",
     "text": [
      "2\n",
      "4\n",
      "6\n",
      "8\n",
      "10\n",
      "12\n",
      "14\n",
      "16\n",
      "18\n",
      "20\n",
      "22\n",
      "24\n",
      "26\n",
      "28\n",
      "30\n",
      "32\n",
      "34\n",
      "36\n",
      "38\n",
      "40\n",
      "42\n",
      "44\n",
      "46\n",
      "48\n",
      "50\n",
      "52\n",
      "54\n",
      "56\n",
      "58\n",
      "60\n",
      "62\n",
      "64\n",
      "66\n",
      "68\n",
      "70\n",
      "72\n",
      "74\n",
      "76\n",
      "78\n",
      "80\n",
      "82\n",
      "84\n",
      "86\n",
      "88\n",
      "90\n",
      "92\n",
      "94\n",
      "96\n",
      "98\n",
      "100\n",
      "[2, 4, 6, 8, 10, 12, 14, 16, 18, 20, 22, 24, 26, 28, 30, 32, 34, 36, 38, 40, 42, 44, 46, 48, 50, 52, 54, 56, 58, 60, 62, 64, 66, 68, 70, 72, 74, 76, 78, 80, 82, 84, 86, 88, 90, 92, 94, 96, 98, 100]\n"
     ]
    }
   ],
   "source": [
    "# Ejercicio 5\n",
    "for num in range(2,101,2):\n",
    "    print(num)\n",
    "\n",
    "num_pares = [num for num in range(2,101) if num % 2==0]\n",
    "print(num_pares)"
   ]
  },
  {
   "cell_type": "code",
   "execution_count": 16,
   "metadata": {},
   "outputs": [
    {
     "name": "stdout",
     "output_type": "stream",
     "text": [
      "es primo\n",
      "es primo\n",
      "es primo\n",
      "es primo\n",
      "es primo\n",
      "es primo\n",
      "es primo\n",
      "es primo\n",
      "es primo\n",
      "es primo\n",
      "es primo\n",
      "es primo\n",
      "es primo\n",
      "es primo\n",
      "es primo\n",
      "es primo\n",
      "es primo\n",
      "es primo\n",
      "es primo\n",
      "es primo\n",
      "es primo\n",
      "es primo\n",
      "es primo\n",
      "es primo\n",
      "es primo\n",
      "es primo\n",
      "es primo\n",
      "es primo\n",
      "es primo\n",
      "es primo\n",
      "es primo\n",
      "es primo\n",
      "es primo\n",
      "es primo\n",
      "es primo\n",
      "es primo\n",
      "es primo\n",
      "es primo\n",
      "es primo\n",
      "es primo\n",
      "es primo\n",
      "es primo\n",
      "es primo\n",
      "es primo\n",
      "es primo\n",
      "es primo\n",
      "es primo\n",
      "es primo\n",
      "es primo\n",
      "es primo\n"
     ]
    }
   ],
   "source": [
    "# Ejercicio 6\n",
    "for num in range(1,51):\n",
    "    if num%num != 0:\n",
    "        print(f\"{num} no es primo\")\n",
    "    else:\n",
    "        print(\"es primo\")"
   ]
  },
  {
   "cell_type": "code",
   "execution_count": 19,
   "metadata": {},
   "outputs": [
    {
     "name": "stdout",
     "output_type": "stream",
     "text": [
      "1 * 1\n",
      "1\n",
      "---------\n",
      "1 * 2\n",
      "2\n",
      "---------\n",
      "2 * 3\n",
      "6\n",
      "---------\n",
      "6 * 4\n",
      "24\n",
      "---------\n",
      "24 * 5\n",
      "120\n",
      "---------\n"
     ]
    }
   ],
   "source": [
    "# Ejercicio 7 \n",
    "factorial = 1\n",
    "numero = int(input(\"ingresa un número\"))\n",
    "\n",
    "for i in range(1, numero + 1):\n",
    "    print(factorial,\"*\", i)\n",
    "    factorial *= i\n",
    "    print(factorial)\n",
    "    print(\"---------\")"
   ]
  },
  {
   "cell_type": "markdown",
   "metadata": {},
   "source": [
    "# Ejercicios _list comprehension"
   ]
  },
  {
   "cell_type": "code",
   "execution_count": 20,
   "metadata": {},
   "outputs": [
    {
     "name": "stdout",
     "output_type": "stream",
     "text": [
      "[2, 4, 6, 8, 10, 12, 14, 16, 18, 20]\n"
     ]
    }
   ],
   "source": [
    "# Ejercicio 1\n",
    " \n",
    "num_pares = [num for num in range(2,21) if num % 2==0]\n",
    "print(num_pares)"
   ]
  },
  {
   "cell_type": "code",
   "execution_count": 24,
   "metadata": {},
   "outputs": [
    {
     "name": "stdout",
     "output_type": "stream",
     "text": [
      "['e', 'e', 'a', 'e']\n"
     ]
    }
   ],
   "source": [
    "# Ejercicio 2\n",
    "texto = \"elefante\"\n",
    "vocales = \"aeiou\"\n",
    "\n",
    "lista_vocales = [ letra for letra in texto if letra in vocales]\n",
    "print(lista_vocales)"
   ]
  },
  {
   "cell_type": "markdown",
   "metadata": {},
   "source": [
    "# Ejercicios try ...except\n"
   ]
  },
  {
   "cell_type": "code",
   "execution_count": 27,
   "metadata": {},
   "outputs": [
    {
     "name": "stdout",
     "output_type": "stream",
     "text": [
      "El nombre está en la lista\n"
     ]
    }
   ],
   "source": [
    "# Ejercicio 1\n",
    "\n",
    "lista_nombre = [\"lucía\", \"elena\", \"carla\", \"maría\"]\n",
    "nombre_usuario = input(\"Ingresa un nombre: \").lower()\n",
    "\n",
    "try:\n",
    "    nombre_usuario in lista_nombre \n",
    "    print(\"El nombre está en la lista\")\n",
    "except:\n",
    "    nombre_usuario is not lista_nombre \n",
    "    print(\"El nombre no está\")\n",
    "    pass"
   ]
  }
 ],
 "metadata": {
  "kernelspec": {
   "display_name": "base",
   "language": "python",
   "name": "python3"
  },
  "language_info": {
   "codemirror_mode": {
    "name": "ipython",
    "version": 3
   },
   "file_extension": ".py",
   "mimetype": "text/x-python",
   "name": "python",
   "nbconvert_exporter": "python",
   "pygments_lexer": "ipython3",
   "version": "3.11.9"
  }
 },
 "nbformat": 4,
 "nbformat_minor": 2
}
