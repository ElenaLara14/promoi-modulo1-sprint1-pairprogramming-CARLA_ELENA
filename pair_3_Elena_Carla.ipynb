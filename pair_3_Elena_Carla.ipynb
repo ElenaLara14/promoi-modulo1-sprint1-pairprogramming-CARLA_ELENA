{
 "cells": [
  {
   "cell_type": "markdown",
   "metadata": {},
   "source": [
    "# EJERCICIOS DICCIONARIO"
   ]
  },
  {
   "cell_type": "code",
   "execution_count": 1,
   "metadata": {},
   "outputs": [
    {
     "name": "stdout",
     "output_type": "stream",
     "text": [
      "3\n",
      "<class 'int'>\n"
     ]
    },
    {
     "data": {
      "text/plain": [
       "'regular'"
      ]
     },
     "execution_count": 1,
     "metadata": {},
     "output_type": "execute_result"
    }
   ],
   "source": [
    "# Ejercicio 1 - Crear un diccionario vacío\n",
    "diccionario1 = {}\n",
    "\n",
    "# Ejercicio 2 - Crear un diccionario con elementos\n",
    "diccionario2 ={1:\"muy mal\", 2:\"mal\", 3:\"regular\", 4: \"bien\", 5:\"muy bien\"}\n",
    "\n",
    "# Ejercicio 3 - Acceder al valor de una clave en un diccionario\n",
    "clave_elegida = int(input(\"¿Qué clave quieres obtener?\"))\n",
    "print(clave_elegida)\n",
    "print(type(clave_elegida))\n",
    "diccionario2[clave_elegida]\n"
   ]
  },
  {
   "cell_type": "code",
   "execution_count": 2,
   "metadata": {},
   "outputs": [
    {
     "name": "stdout",
     "output_type": "stream",
     "text": [
      "{1: 'muy mal', 2: 'mal', 3: 'regular', 4: 'bien', 5: 'muy bien', 6: 'excelente'}\n",
      "{1: 'muy mal', 2: 'mal', 3: 'regular', 4: 'bien', 5: 'bastante mal', 6: 'excelente'}\n",
      "{1: 'muy mal', 2: 'mal', 3: 'regular', 4: 'bien', 5: 'maaaalll', 6: 'excelente'}\n"
     ]
    },
    {
     "data": {
      "text/plain": [
       "'mal'"
      ]
     },
     "execution_count": 2,
     "metadata": {},
     "output_type": "execute_result"
    }
   ],
   "source": [
    "# Ejercicio 4 - Agregar un nuevo clave valor al diccionario\n",
    "diccionario2.update({6:\"excelente\"})\n",
    "print(diccionario2)\n",
    "\n",
    "\n",
    "# Ejercicio 5 - Actualizar el valor de una clave de un diccionario\n",
    "diccionario2.update({5:\"bastante mal\"})\n",
    "print(diccionario2)\n",
    "# Otra forma bajo asignación directa\n",
    "diccionario2[5] = \"maaaalll\"\n",
    "print(diccionario2)\n",
    "\n",
    "# Ejercicio 6 - Eliminar un par clave -valor del diccionario\n",
    "diccionario2.pop(3)\n",
    "diccionario2\n",
    "\n",
    "# Ejercicio 7 - Verificar si una clave está presente en el diccionario\n",
    "clave_elegida2 = int(input(\"¿Qué clave necesitas\"))\n",
    "diccionario2.get(clave_elegida2, \"La clave elegida no existe en el diccionario\")\n"
   ]
  },
  {
   "cell_type": "code",
   "execution_count": 3,
   "metadata": {},
   "outputs": [
    {
     "name": "stdout",
     "output_type": "stream",
     "text": [
      "{'banana': 'fruta', 'mesa': 'mueble', 'auto': 'medio de transporte', 'botella': 'elemento'}\n",
      "{'banana': 'fruta', 'mesa': 'mueble', 'auto': 'medio de transporte'}\n"
     ]
    }
   ],
   "source": [
    "# Ejercicio 8 - Obtener una lista de todas las claves del diccionario\n",
    "diccionario3 = {\"banana\": \"fruta\", \"mesa\": \"mueble\", \"auto\":\"medio de transporte\"}\n",
    "diccionario3.keys()\n",
    "\n",
    "# Ejercicio 9 - Obtener una lista de todos los valores del diccionario\n",
    "diccionario3.values()\n",
    "\n",
    "#Ejercicio 10 - Usar método setdefault establecer valor predeterminado\n",
    "diccionario3.setdefault(\"botella\", \"elemento\")\n",
    "print(diccionario3)\n",
    "\n",
    "# Ejercicio 11 - Usar pop() y popitem()\n",
    "diccionario3.popitem()\n",
    "print(diccionario3)"
   ]
  },
  {
   "cell_type": "markdown",
   "metadata": {},
   "source": [
    "# EJERCICIOS SETS"
   ]
  },
  {
   "cell_type": "code",
   "execution_count": 4,
   "metadata": {},
   "outputs": [
    {
     "ename": "TypeError",
     "evalue": "unhashable type: 'list'",
     "output_type": "error",
     "traceback": [
      "\u001b[0;31m---------------------------------------------------------------------------\u001b[0m",
      "\u001b[0;31mTypeError\u001b[0m                                 Traceback (most recent call last)",
      "Cell \u001b[0;32mIn[4], line 5\u001b[0m\n\u001b[1;32m      2\u001b[0m set1 \u001b[38;5;241m=\u001b[39m{}\n\u001b[1;32m      4\u001b[0m \u001b[38;5;66;03m# 2 Crear conjunto con elementos\u001b[39;00m\n\u001b[0;32m----> 5\u001b[0m set2 \u001b[38;5;241m=\u001b[39m {\u001b[38;5;241m1\u001b[39m, \u001b[38;5;124m\"\u001b[39m\u001b[38;5;124mfresa\u001b[39m\u001b[38;5;124m\"\u001b[39m, [\u001b[38;5;124m\"\u001b[39m\u001b[38;5;124ma\u001b[39m\u001b[38;5;124m\"\u001b[39m,\u001b[38;5;124m\"\u001b[39m\u001b[38;5;124mb\u001b[39m\u001b[38;5;124m\"\u001b[39m,\u001b[38;5;124m\"\u001b[39m\u001b[38;5;124mc\u001b[39m\u001b[38;5;124m\"\u001b[39m], \u001b[38;5;241m2.0\u001b[39m, (\u001b[38;5;124m\"\u001b[39m\u001b[38;5;124md\u001b[39m\u001b[38;5;124m\"\u001b[39m,\u001b[38;5;124m\"\u001b[39m\u001b[38;5;124me\u001b[39m\u001b[38;5;124m\"\u001b[39m,\u001b[38;5;124m\"\u001b[39m\u001b[38;5;124mf\u001b[39m\u001b[38;5;124m\"\u001b[39m), \u001b[38;5;124m\"\u001b[39m\u001b[38;5;124mbonito\u001b[39m\u001b[38;5;124m\"\u001b[39m}\n\u001b[1;32m      6\u001b[0m \u001b[38;5;28mtype\u001b[39m(set2)\n",
      "\u001b[0;31mTypeError\u001b[0m: unhashable type: 'list'"
     ]
    }
   ],
   "source": [
    "# Ejercicio 1 - Crear Elemento vacio\n",
    "set1 ={}\n",
    "\n",
    "# 2 Crear conjunto con elementos\n",
    "set2 = {1, \"fresa\", [\"a\",\"b\",\"c\"], 2.0, (\"d\",\"e\",\"f\"), \"bonito\"}\n",
    "type(set2)\n",
    "# Ejercicio 3 - Agregar elementos al set\n"
   ]
  },
  {
   "cell_type": "code",
   "execution_count": null,
   "metadata": {},
   "outputs": [],
   "source": [
    "# Ejercicio 4 - Eliminar un elemento del conjunto\n",
    "\n",
    "\n",
    "# Ejercicio 5 - Verificar la pertenencia de un elemento en un conjunto\n",
    "\n",
    "# Ejercicio 6 - Realizar una unión de conjuntos\n",
    "\n",
    "# Ejercicio 7 - Realizar una intersección de conjuntos\n",
    "\n",
    "# Ejercicio 8 - Realizar una diferencia de conjuntos\n",
    "\n",
    "# Ejercicio 9 - Verificar si un conjunto es subconjunto de otro\n"
   ]
  }
 ],
 "metadata": {
  "kernelspec": {
   "display_name": "base",
   "language": "python",
   "name": "python3"
  },
  "language_info": {
   "codemirror_mode": {
    "name": "ipython",
    "version": 3
   },
   "file_extension": ".py",
   "mimetype": "text/x-python",
   "name": "python",
   "nbconvert_exporter": "python",
   "pygments_lexer": "ipython3",
   "version": "3.11.9"
  }
 },
 "nbformat": 4,
 "nbformat_minor": 2
}
