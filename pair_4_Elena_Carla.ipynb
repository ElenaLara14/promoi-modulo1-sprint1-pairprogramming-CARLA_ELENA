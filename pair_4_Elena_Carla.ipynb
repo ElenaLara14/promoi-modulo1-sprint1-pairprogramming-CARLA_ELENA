{
 "cells": [
  {
   "cell_type": "markdown",
   "metadata": {},
   "source": [
    "## Exercises if-else"
   ]
  },
  {
   "cell_type": "code",
   "execution_count": 1,
   "metadata": {},
   "outputs": [
    {
     "name": "stdout",
     "output_type": "stream",
     "text": [
      "El número 5 es positivo.\n"
     ]
    }
   ],
   "source": [
    "# Exercise 1\n",
    "\n",
    "numero = int (input (\"Ingresa un número\"))\n",
    "\n",
    "if numero > 0:\n",
    "    print (f\"El número {numero} es positivo.\")\n",
    "elif numero < 0:\n",
    "    print (f\"El número {numero} es negativo.\")\n",
    "else:\n",
    "    print (\"El número es cero.\")"
   ]
  },
  {
   "cell_type": "code",
   "execution_count": 2,
   "metadata": {},
   "outputs": [
    {
     "name": "stdout",
     "output_type": "stream",
     "text": [
      "Es impar.\n"
     ]
    }
   ],
   "source": [
    "# Exercise 2\n",
    "\n",
    "numero1 = int (input (\"Ingresa un número\"))\n",
    "\n",
    "if numero1 % 2 == 0:\n",
    "    print (\"Es par.\")\n",
    "else:\n",
    "    print (\"Es impar.\")\n",
    "\n"
   ]
  },
  {
   "cell_type": "code",
   "execution_count": 3,
   "metadata": {},
   "outputs": [
    {
     "name": "stdout",
     "output_type": "stream",
     "text": [
      "Está aprobada!!\n"
     ]
    }
   ],
   "source": [
    "# Exercise 3\n",
    "\n",
    "nota = int (input (\"Ingresa la nota\"))\n",
    "\n",
    "if nota >= 60:\n",
    "    print (\"Está aprobada!!\")\n",
    "else:\n",
    "    print (\"Está suspendida :(\")\n",
    "\n",
    "\n"
   ]
  },
  {
   "cell_type": "code",
   "execution_count": 4,
   "metadata": {},
   "outputs": [
    {
     "name": "stdout",
     "output_type": "stream",
     "text": [
      "9 es el mayor.\n"
     ]
    }
   ],
   "source": [
    "# Exercise 4\n",
    "\n",
    "num1 = int (input (\"Ingresa un número\"))\n",
    "num2 = int (input (\"Ingresa un número\"))\n",
    "\n",
    "if num1 > num2:\n",
    "    print(f\"{num1} es el mayor.\")\n",
    "elif num2 > num1:\n",
    "     print(f\"{num2} es el mayor.\")\n",
    "else:\n",
    "    print (\"Son iguales.\")\n",
    "\n"
   ]
  },
  {
   "cell_type": "code",
   "execution_count": 5,
   "metadata": {},
   "outputs": [
    {
     "name": "stdout",
     "output_type": "stream",
     "text": [
      "Es una consonante\n"
     ]
    }
   ],
   "source": [
    "# Exercise 5\n",
    "\n",
    "letra = (input (\"Ingrese una letra\")).lower()\n",
    "vocales = \"aeiou\"\n",
    "\n",
    "if letra in vocales:\n",
    "    print(\"Es una vocal\")\n",
    "else: \n",
    "    print(\"Es una consonante\")\n"
   ]
  },
  {
   "cell_type": "code",
   "execution_count": 6,
   "metadata": {},
   "outputs": [
    {
     "name": "stdout",
     "output_type": "stream",
     "text": [
      "El descuento es 10.0 euros\n"
     ]
    }
   ],
   "source": [
    "# Exercise 6\n",
    "\n",
    "monto = 100\n",
    "\n",
    "if monto >= 100:\n",
    "    descuento = monto * .1\n",
    "    print (\"El descuento es\",descuento, \"euros\")\n",
    "else:\n",
    "    print (\"no aplica descuento\")\n",
    "\n"
   ]
  },
  {
   "cell_type": "code",
   "execution_count": 11,
   "metadata": {},
   "outputs": [
    {
     "name": "stdout",
     "output_type": "stream",
     "text": [
      "El año es bisiesto\n"
     ]
    }
   ],
   "source": [
    "# Exercise 7\n",
    "\n",
    "año = int (input (\"ingrese un año\"))\n",
    "\n",
    "if año % 4 == 0:\n",
    "    if año % 100 == 0 and año % 400 != 0:\n",
    "        print(\"No es bisiesto\")\n",
    "    else: \n",
    "        print (\"El año es bisiesto\")\n",
    "else:\n",
    "    print(\"No es bisiesto\")\n",
    "\n",
    "\n"
   ]
  },
  {
   "cell_type": "code",
   "execution_count": 8,
   "metadata": {},
   "outputs": [
    {
     "name": "stdout",
     "output_type": "stream",
     "text": [
      "El triangulo no es rectángulo\n"
     ]
    }
   ],
   "source": [
    "# Exercise 9\n",
    "# Pitágoras c1 ** 2 + c2 **2 = h **2\n",
    "\n",
    "c1 = 5\n",
    "c2 = 6\n",
    "h = 23\n",
    "\n",
    "if c1**2 + c2**2 == h**2:\n",
    "    print (\"El triangulo es rectángulo\")\n",
    "else:\n",
    "    print (\"El triangulo no es rectángulo\")\n"
   ]
  },
  {
   "cell_type": "markdown",
   "metadata": {},
   "source": [
    "## Exercises While"
   ]
  },
  {
   "cell_type": "code",
   "execution_count": 9,
   "metadata": {},
   "outputs": [
    {
     "name": "stdout",
     "output_type": "stream",
     "text": [
      "contador es 1 suma es 1\n",
      "contador es 2 suma es 3\n",
      "contador es 3 suma es 6\n",
      "contador es 4 suma es 10\n",
      "contador es 5 suma es 15\n",
      "contador es 6 suma es 21\n",
      "contador es 7 suma es 28\n",
      "contador es 8 suma es 36\n",
      "contador es 9 suma es 45\n",
      "contador es 10 suma es 55\n"
     ]
    }
   ],
   "source": [
    "# Exercise 1\n",
    "\n",
    "suma = 0\n",
    "contador = 0\n",
    "\n",
    "while contador < 10:\n",
    "    contador += 1\n",
    "    suma += contador\n",
    "    print (f\"contador es {contador} suma es {suma}\") \n"
   ]
  },
  {
   "cell_type": "code",
   "execution_count": 10,
   "metadata": {},
   "outputs": [
    {
     "name": "stdout",
     "output_type": "stream",
     "text": [
      "número incorrecto\n",
      "Adivinaste!\n"
     ]
    }
   ],
   "source": [
    "# Exercise 2\n",
    "\n",
    "numero_secreto = 8\n",
    "numero_usuario = int(input(\"adivina un número del 1 al 10\"))\n",
    "\n",
    "while numero_usuario != numero_secreto:\n",
    "    print(\"número incorrecto\")\n",
    "    numero_usuario = int(input(\"Fallaste, adivina de nuevo\"))\n",
    "else: \n",
    "    print(\"Adivinaste!\")\n"
   ]
  }
 ],
 "metadata": {
  "kernelspec": {
   "display_name": "base",
   "language": "python",
   "name": "python3"
  },
  "language_info": {
   "codemirror_mode": {
    "name": "ipython",
    "version": 3
   },
   "file_extension": ".py",
   "mimetype": "text/x-python",
   "name": "python",
   "nbconvert_exporter": "python",
   "pygments_lexer": "ipython3",
   "version": "3.9.12"
  }
 },
 "nbformat": 4,
 "nbformat_minor": 2
}
